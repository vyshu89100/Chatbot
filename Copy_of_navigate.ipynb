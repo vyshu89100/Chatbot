{
  "cells": [
    {
      "cell_type": "markdown",
      "metadata": {
        "id": "view-in-github",
        "colab_type": "text"
      },
      "source": [
        "<a href=\"https://colab.research.google.com/github/vyshu89100/Chatbot/blob/main/Copy_of_navigate.ipynb\" target=\"_parent\"><img src=\"https://colab.research.google.com/assets/colab-badge.svg\" alt=\"Open In Colab\"/></a>"
      ]
    },
    {
      "cell_type": "code",
      "source": [
        "!pip install geopy requests"
      ],
      "metadata": {
        "colab": {
          "base_uri": "https://localhost:8080/"
        },
        "id": "w-sUHIEAP2C3",
        "outputId": "6ff9444d-d94a-409b-cbd6-05cc31064982"
      },
      "execution_count": 2,
      "outputs": [
        {
          "output_type": "stream",
          "name": "stdout",
          "text": [
            "Requirement already satisfied: geopy in /usr/local/lib/python3.10/dist-packages (2.3.0)\n",
            "Requirement already satisfied: requests in /usr/local/lib/python3.10/dist-packages (2.31.0)\n",
            "Requirement already satisfied: geographiclib<3,>=1.52 in /usr/local/lib/python3.10/dist-packages (from geopy) (2.0)\n",
            "Requirement already satisfied: charset-normalizer<4,>=2 in /usr/local/lib/python3.10/dist-packages (from requests) (3.3.2)\n",
            "Requirement already satisfied: idna<4,>=2.5 in /usr/local/lib/python3.10/dist-packages (from requests) (3.6)\n",
            "Requirement already satisfied: urllib3<3,>=1.21.1 in /usr/local/lib/python3.10/dist-packages (from requests) (2.0.7)\n",
            "Requirement already satisfied: certifi>=2017.4.17 in /usr/local/lib/python3.10/dist-packages (from requests) (2024.2.2)\n"
          ]
        }
      ]
    },
    {
      "cell_type": "code",
      "source": [
        "import requests\n",
        "from geopy.geocoders import Nominatim"
      ],
      "metadata": {
        "id": "1Ph1RF6mP4x_"
      },
      "execution_count": 3,
      "outputs": []
    },
    {
      "cell_type": "code",
      "source": [
        "\n",
        "first_aid_tips = {\n",
        "     \"burns\": \"Cool the burn under cold running water for at least 10 minutes. Cover the burn with a sterile, non-sticky bandage.\",\n",
        "    \"cuts\": \"Clean the cut with water and mild soap, then cover it with a sterile bandage.\",\n",
        "    \"sprains\": \"Rest, ice, compress, and elevate the affected area.\",\n",
        "    \"heart attack\":\"If you or someone else has chest pain, call for emergency medical services\",\n",
        "    \"choking\":\"If someone is choking and unable to speak or breathe, perform the Heimlich maneuver.\",\n",
        "    \"snake bite\":\" Remove jewelry and tight clothing before you start to swell.\",\n",
        "    \"seizure\":\"turn the person gently onto one side,clear the area around the person,put something soft and flat like a folded jacket under his or her head\"\n",
        "    # Add more first aid tips here\n",
        "}\n"
      ],
      "metadata": {
        "id": "o25LVrXHQkNH"
      },
      "execution_count": 5,
      "outputs": []
    },
    {
      "cell_type": "code",
      "source": [
        "def get_nearest_location(query):\n",
        "    geolocator = Nominatim(user_agent=\"first_aid_bot\")\n",
        "    location = geolocator.geocode(query)\n",
        "    if location:\n",
        "        return f\"https://maps.google.com/maps?q={location.latitude},{location.longitude}\"\n",
        "    else:\n",
        "        return \"Sorry, I couldn't find that location.\"\n"
      ],
      "metadata": {
        "id": "f6TB_JnsQl_e"
      },
      "execution_count": 6,
      "outputs": []
    },
    {
      "cell_type": "code",
      "source": [
        "def chatbot():\n",
        "    print(\"Hello! I'm a First Aid Chatbot. Type 'quit' to exit.\")\n",
        "    while True:\n",
        "        user_input = input(\"Enter the type of accident or a location: \").lower()\n",
        "        if user_input == \"quit\":\n",
        "            break\n",
        "        if user_input in first_aid_tips:\n",
        "            print(first_aid_tips[user_input])\n",
        "        else:\n",
        "            print(get_nearest_location(user_input))\n",
        "if __name__ == \"__main__\":\n",
        "    chatbot()"
      ],
      "metadata": {
        "colab": {
          "base_uri": "https://localhost:8080/"
        },
        "id": "plk-bvhoQoSP",
        "outputId": "915d930e-9781-4182-936d-836e8e9cc1db"
      },
      "execution_count": 7,
      "outputs": [
        {
          "name": "stdout",
          "output_type": "stream",
          "text": [
            "Hello! I'm a First Aid Chatbot. Type 'quit' to exit.\n",
            "Enter the type of accident or a location: snake bite\n",
            " Remove jewelry and tight clothing before you start to swell.\n",
            "Enter the type of accident or a location: vijayawada\n",
            "https://maps.google.com/maps?q=16.5087573,80.6185089\n",
            "Enter the type of accident or a location: quit\n"
          ]
        }
      ]
    }
  ],
  "metadata": {
    "colab": {
      "provenance": [],
      "authorship_tag": "ABX9TyOsZamSj4w9AY6s9V3ZjOvd",
      "include_colab_link": true
    },
    "kernelspec": {
      "display_name": "Python 3",
      "name": "python3"
    },
    "language_info": {
      "name": "python"
    }
  },
  "nbformat": 4,
  "nbformat_minor": 0
}